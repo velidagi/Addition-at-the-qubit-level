{
 "cells": [
  {
   "cell_type": "code",
   "execution_count": 12,
   "id": "f3342a3e",
   "metadata": {},
   "outputs": [
    {
     "name": "stdout",
     "output_type": "stream",
     "text": [
      "inputs\n",
      "{'01': 1024}\n",
      "sums\n",
      "{'10': 1024}\n"
     ]
    }
   ],
   "source": [
    "from qiskit import QuantumCircuit, QuantumRegister, ClassicalRegister, execute, Aer\n",
    "\n",
    "# İki qubitli bir kuantum devresi oluşturun\n",
    "qr = QuantumRegister(4)\n",
    "cr = ClassicalRegister(2)\n",
    "qc = QuantumCircuit(qr, cr)\n",
    "\n",
    "qc.x(qr[0])\n",
    "qc.x(qr[1])\n",
    "\n",
    "qc.cx(qr[0], qr[2])\n",
    "qc.cx(qr[1], qr[2])\n",
    "\n",
    "qc.ccx(qr[0], qr[1], qr[3])\n",
    "\n",
    "qc.cx(qr[0], qr[1])\n",
    "qc.cx(qr[1], qr[2])\n",
    "\n",
    "qc.measure(qr[0], cr[0])\n",
    "qc.measure(qr[1], cr[1])\n",
    "print(\"inputs\")\n",
    "backend = Aer.get_backend('qasm_simulator')\n",
    "job = execute(qc, backend=backend, shots=1024)\n",
    "result = job.result()\n",
    "print(counts)\n",
    "qc.measure(qr[2], cr[0])\n",
    "qc.measure(qr[3], cr[1])\n",
    "print(\"sums\")\n",
    "# Qiskit simülatöründe devreyi çalıştırın\n",
    "backend = Aer.get_backend('qasm_simulator')\n",
    "job = execute(qc, backend=backend, shots=1024)\n",
    "result = job.result()\n",
    "# Sonuçları ekrana yazdırın\n",
    "counts = result.get_counts()\n",
    "print(counts)\n"
   ]
  },
  {
   "cell_type": "code",
   "execution_count": null,
   "id": "37836bba",
   "metadata": {},
   "outputs": [],
   "source": []
  },
  {
   "cell_type": "code",
   "execution_count": null,
   "id": "baf43db7",
   "metadata": {},
   "outputs": [],
   "source": []
  }
 ],
 "metadata": {
  "kernelspec": {
   "display_name": "Python 3 (ipykernel)",
   "language": "python",
   "name": "python3"
  },
  "language_info": {
   "codemirror_mode": {
    "name": "ipython",
    "version": 3
   },
   "file_extension": ".py",
   "mimetype": "text/x-python",
   "name": "python",
   "nbconvert_exporter": "python",
   "pygments_lexer": "ipython3",
   "version": "3.10.9"
  }
 },
 "nbformat": 4,
 "nbformat_minor": 5
}
